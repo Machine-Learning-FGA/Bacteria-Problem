{
 "cells": [
  {
   "cell_type": "markdown",
   "metadata": {},
   "source": [
    "## Comparação KNN VS SVM utilizando validação cruzada"
   ]
  },
  {
   "cell_type": "markdown",
   "metadata": {},
   "source": [
    "Importando bibliotecas"
   ]
  },
  {
   "cell_type": "code",
   "execution_count": 1,
   "metadata": {
    "collapsed": true
   },
   "outputs": [],
   "source": [
    "import pandas as pd\n",
    "import numpy as np \n",
    "import matplotlib.pyplot as plt\n",
    "import sklearn "
   ]
  },
  {
   "cell_type": "markdown",
   "metadata": {},
   "source": [
    "Baixando banco de dados"
   ]
  },
  {
   "cell_type": "code",
   "execution_count": 2,
   "metadata": {},
   "outputs": [
    {
     "name": "stdout",
     "output_type": "stream",
     "text": [
      "   comprimento flagelo  largura flagelo  Volume corpo  Volume flagelo\n",
      "0                  1.4              0.2     36.995395        0.043982\n",
      "1                  4.2              1.5     41.704642        7.422013\n",
      "2                  6.7              2.0     47.412916       21.048671\n",
      "3                  1.5              0.2     50.029863        0.047124\n",
      "4                  1.4              0.2     42.764930        0.043982\n"
     ]
    }
   ],
   "source": [
    "data = pd.read_csv('processamento_de_dados/resultado.csv')\n",
    "del data['comprimento corpo']\n",
    "del data['largura corpo']\n",
    "\n",
    "#salvando labels\n",
    "target = np.asarray(data['Tipo'])\n",
    "\n",
    "del data['Tipo']\n",
    "\n",
    "print(data.head())\n",
    "\n",
    "\n"
   ]
  },
  {
   "cell_type": "markdown",
   "metadata": {},
   "source": [
    "Separando amostra de treino e amostra de teste"
   ]
  },
  {
   "cell_type": "code",
   "execution_count": 3,
   "metadata": {},
   "outputs": [],
   "source": [
    "#importando módulos do sklearn\n",
    "from sklearn.model_selection import train_test_split\n",
    "\n",
    "x=np.asarray(data);\n",
    "y=target\n"
   ]
  },
  {
   "cell_type": "markdown",
   "metadata": {},
   "source": [
    "Treinando modelo"
   ]
  },
  {
   "cell_type": "code",
   "execution_count": 4,
   "metadata": {},
   "outputs": [],
   "source": [
    "from sklearn.neighbors import KNeighborsClassifier\n",
    "from sklearn.svm import SVC\n",
    "from sklearn import model_selection\n",
    "\n",
    "\n",
    "\n",
    "models=[]\n",
    "results=[]\n",
    "names=[]\n",
    "\n",
    "#iniciando modelos\n",
    "model1 = KNeighborsClassifier(10,'uniform')\n",
    "model2 = SVC(kernel='rbf',gamma=0.1)\n",
    "\n",
    "models.append( ['KNeighbors',model1] )\n",
    "models.append(['SVC',model2])"
   ]
  },
  {
   "cell_type": "markdown",
   "metadata": {},
   "source": [
    "Testando..."
   ]
  },
  {
   "cell_type": "code",
   "execution_count": 5,
   "metadata": {},
   "outputs": [
    {
     "name": "stdout",
     "output_type": "stream",
     "text": [
      "KNeighbors: 0.920000 (0.049889)\n",
      "SVC: 0.913333 (0.066999)\n"
     ]
    },
    {
     "data": {
      "text/plain": [
       "<matplotlib.figure.Figure at 0x7fa307290780>"
      ]
     },
     "metadata": {},
     "output_type": "display_data"
    },
    {
     "data": {
      "image/png": "[encoded data removed]",
      "text/plain": [
       "<matplotlib.figure.Figure at 0x7fa307290c18>"
      ]
     },
     "metadata": {},
     "output_type": "display_data"
    }
   ],
   "source": [
    "for name, model in models:\n",
    "    kfold = model_selection.KFold(n_splits=10,random_state=2)\n",
    "    m_results= model_selection.cross_val_score(model,x,y,cv=kfold,scoring='accuracy')\n",
    "\n",
    "    names.append(name)\n",
    "    results.append(m_results)\n",
    "    print(\"%s: %f (%f)\" % (name, m_results.mean(), m_results.std()))\n",
    "    \n",
    "    fig = plt.figure()\n",
    "\n",
    "    \n",
    "fig.suptitle('Algorithm Comparison')\n",
    "ax = fig.add_subplot(111)\n",
    "plt.boxplot(results)\n",
    "ax.set_xticklabels(names)\n",
    "plt.ylim([0.7,1.1])\n",
    "plt.show()\n",
    "    "
   ]
  },
  {
   "cell_type": "markdown",
   "metadata": {},
   "source": [
    "O gráfico de caixa lê se da seguinte maneira, a linha vermelha é a média do modelo. Os riscos superiores e inferiores os maiores e menores valores e a área da caixa é o alcance dos dados"
   ]
  },
  {
   "cell_type": "markdown",
   "metadata": {},
   "source": [
    "##### Links\n",
    "* https://en.wikipedia.org/wiki/Cross-validation_(statistics)\n",
    "* https://machinelearningmastery.com/compare-models-and-select-the-best-using-the-caret-r-package/\n",
    "* https://matplotlib.org/api/_as_gen/matplotlib.axes.Axes.boxplot.html"
   ]
  }
 ],
 "metadata": {
  "kernelspec": {
   "display_name": "Python 3",
   "language": "python",
   "name": "python3"
  },
  "language_info": {
   "codemirror_mode": {
    "name": "ipython",
    "version": 3
   },
   "file_extension": ".py",
   "mimetype": "text/x-python",
   "name": "python",
   "nbconvert_exporter": "python",
   "pygments_lexer": "ipython3",
   "version": "3.5.2"
  }
 },
 "nbformat": 4,
 "nbformat_minor": 2
}
