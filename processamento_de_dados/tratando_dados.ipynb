{
 "cells": [
  {
   "cell_type": "markdown",
   "metadata": {},
   "source": [
    "Importa **pandas** para acessar a tabela de dados"
   ]
  },
  {
   "cell_type": "code",
   "execution_count": 1,
   "metadata": {
    "collapsed": true
   },
   "outputs": [],
   "source": [
    "import pandas as pd"
   ]
  },
  {
   "cell_type": "markdown",
   "metadata": {},
   "source": [
    "Carregando o dado"
   ]
  },
  {
   "cell_type": "code",
   "execution_count": 2,
   "metadata": {},
   "outputs": [
    {
     "name": "stdout",
     "output_type": "stream",
     "text": [
      "    comprimento corpo largura corpo comprimento flagelo largura flagelo  \\\n",
      "0                 4,6           3,2                 1,4             0,2   \n",
      "1                 5,9             3                 4,2             1,5   \n",
      "2                 7,7           2,8                 6,7               2   \n",
      "3                 5,2           3,5                 1,5             0,2   \n",
      "4                   5           3,3                 1,4             0,2   \n",
      "5                 4,9           3,1                 1,5             0,1   \n",
      "6                 5,8           2,7                 3,9             1,2   \n",
      "7                 6,4           2,7                 5,3             1,9   \n",
      "8                 4,4           3,2                 1,3             0,2   \n",
      "9                   5           3,4                 1,5             0,2   \n",
      "10                4,7           3,2                 1,3             0,2   \n",
      "11                6,2           2,8                 4,8             1,8   \n",
      "12                6,9           3,1                 5,1             2,3   \n",
      "13                5,5           2,4                 3,7               1   \n",
      "14                5,6           2,5                 3,9             1,1   \n",
      "15                6,3           2,9                 5,6             1,8   \n",
      "16                  6           2,7                 5,1             1,6   \n",
      "17                5,7           2,8                 4,5             1,3   \n",
      "18                6,5             3                 5,2               2   \n",
      "19                  5           3,4                 1,6             0,4   \n",
      "20                5,1           3,7                 1,5             0,4   \n",
      "21                5,5           3,5                 1,3             0,2   \n",
      "22                7,3           2,9                 6,3             1,8   \n",
      "23                5,4           3,4                 1,5             0,4   \n",
      "24                5,7           2,5                   5               2   \n",
      "25                4,9           3,1                 1,5             0,1   \n",
      "26                7,7             3                 6,1             2,3   \n",
      "27                6,4           3,2                 5,3             2,3   \n",
      "28                5,1           3,8                 1,9             0,4   \n",
      "29                5,5           2,5                   4             1,3   \n",
      "..                ...           ...                 ...             ...   \n",
      "120               6,3           2,7                 4,9             1,8   \n",
      "121               5,5           4,2                 1,4             0,2   \n",
      "122               6,4           3,1                 5,5             1,8   \n",
      "123               6,3           3,3                   6             2,5   \n",
      "124               5,2           3,4                 1,4             0,2   \n",
      "125               5,5           2,3                   4             1,3   \n",
      "126               6,3           2,3                 4,4             1,3   \n",
      "127               4,4           2,9                 1,4             0,2   \n",
      "128               6,7           3,1                 5,6             2,4   \n",
      "129               6,2           2,9                 4,3             1,3   \n",
      "130               5,1           2,5                   3             1,1   \n",
      "131               7,1             3                 5,9             2,1   \n",
      "132               6,3           2,5                   5             1,9   \n",
      "133               5,1           3,5                 1,4             0,2   \n",
      "134                 6           2,9                 4,5             1,5   \n",
      "135               5,6           2,7                 4,2             1,3   \n",
      "136               6,9           3,2                 5,7             2,3   \n",
      "137               5,4           3,4                 1,7             0,2   \n",
      "138               6,5             3                 5,5             1,8   \n",
      "139               5,2           4,1                 1,5             0,1   \n",
      "140               7,2           3,2                   6             1,8   \n",
      "141               5,6           2,8                 4,9               2   \n",
      "142               5,5           2,4                 3,8             1,1   \n",
      "143               6,3           2,8                 5,1             1,5   \n",
      "144               6,8           2,8                 4,8             1,4   \n",
      "145               5,1           3,3                 1,7             0,5   \n",
      "146               5,9             3                 5,1             1,8   \n",
      "147               4,9             3                 1,4             0,2   \n",
      "148               6,9           3,1                 4,9             1,5   \n",
      "149               4,8             3                 1,4             0,3   \n",
      "\n",
      "              Tipo  \n",
      "0       Bactéria 1  \n",
      "1       Bactéria 2  \n",
      "2       Bactéria 3  \n",
      "3      Bactéria Um  \n",
      "4       Bactéria 1  \n",
      "5       Bacteria 1  \n",
      "6       Bactéria 2  \n",
      "7       Bactéria 3  \n",
      "8       Bactéria 1  \n",
      "9       Bactéria 1  \n",
      "10     Bactéria Um  \n",
      "11      Bactéria 3  \n",
      "12      Bactéria 3  \n",
      "13    Bactria dois  \n",
      "14   Bacteria dois  \n",
      "15      Bactéria 3  \n",
      "16      Bactéria 2  \n",
      "17      Bacteria 2  \n",
      "18      Bactéria 3  \n",
      "19     Bactéria Um  \n",
      "20      Bacteria 1  \n",
      "21     Bactéria Um  \n",
      "22      Bacteria 3  \n",
      "23     Bactéria Um  \n",
      "24       Bactera 3  \n",
      "25     Bactéria Um  \n",
      "26      Bactéria 3  \n",
      "27      Bactéria 3  \n",
      "28     Bactéria Um  \n",
      "29      Bactéria 2  \n",
      "..             ...  \n",
      "120   Bactera tres  \n",
      "121    Bactéria Um  \n",
      "122     Bactéria 3  \n",
      "123     Bactéria 3  \n",
      "124    Bactéria Um  \n",
      "125     Bactéria 2  \n",
      "126      Bactera 2  \n",
      "127    Bactéria Um  \n",
      "128     Bactéria 3  \n",
      "129     Bactéria 2  \n",
      "130     Bactéria 2  \n",
      "131     Bactéria 3  \n",
      "132      Batéria 3  \n",
      "133    Bactéria Um  \n",
      "134   Bactria dois  \n",
      "135     Bactéria 2  \n",
      "136   Bactera tres  \n",
      "137    Bacteria Um  \n",
      "138     Bactéria 3  \n",
      "139    Bactéria Um  \n",
      "140     Bactéria 3  \n",
      "141     Bactéria 3  \n",
      "142     Bactéria 2  \n",
      "143  Bactéria Três  \n",
      "144     Bactéria 2  \n",
      "145    Bactéria Um  \n",
      "146     Bactéria 3  \n",
      "147    Bactéria Um  \n",
      "148     Bactéria 2  \n",
      "149    Bactéria Um  \n",
      "\n",
      "[150 rows x 5 columns]\n"
     ]
    }
   ],
   "source": [
    "#carregando os dados no objeto DataFrame\n",
    "data = pd.read_csv('data.csv')\n",
    "\n",
    "#mostrando os dados carregados\n",
    "print(data)"
   ]
  },
  {
   "cell_type": "markdown",
   "metadata": {},
   "source": [
    "Trabalhando com a coluna tipo perceba que necessitamos apenas da segunda palavra, portanto, tiramos a primeira"
   ]
  },
  {
   "cell_type": "code",
   "execution_count": 3,
   "metadata": {},
   "outputs": [],
   "source": [
    "#retirando a primeira palavra\n",
    "for i in range(data['Tipo'].size):\n",
    "    word= data['Tipo'][i].split(' ')\n",
    "    data['Tipo'][i]=word[-1]\n",
    "    "
   ]
  },
  {
   "cell_type": "markdown",
   "metadata": {},
   "source": [
    "Visualizando a coluna"
   ]
  },
  {
   "cell_type": "code",
   "execution_count": 4,
   "metadata": {},
   "outputs": [
    {
     "name": "stdout",
     "output_type": "stream",
     "text": [
      "0         1\n",
      "1         2\n",
      "2         3\n",
      "3        Um\n",
      "4         1\n",
      "5         1\n",
      "6         2\n",
      "7         3\n",
      "8         1\n",
      "9         1\n",
      "10       Um\n",
      "11        3\n",
      "12        3\n",
      "13     dois\n",
      "14     dois\n",
      "15        3\n",
      "16        2\n",
      "17        2\n",
      "18        3\n",
      "19       Um\n",
      "20        1\n",
      "21       Um\n",
      "22        3\n",
      "23       Um\n",
      "24        3\n",
      "25       Um\n",
      "26        3\n",
      "27        3\n",
      "28       Um\n",
      "29        2\n",
      "       ... \n",
      "120    tres\n",
      "121      Um\n",
      "122       3\n",
      "123       3\n",
      "124      Um\n",
      "125       2\n",
      "126       2\n",
      "127      Um\n",
      "128       3\n",
      "129       2\n",
      "130       2\n",
      "131       3\n",
      "132       3\n",
      "133      Um\n",
      "134    dois\n",
      "135       2\n",
      "136    tres\n",
      "137      Um\n",
      "138       3\n",
      "139      Um\n",
      "140       3\n",
      "141       3\n",
      "142       2\n",
      "143    Três\n",
      "144       2\n",
      "145      Um\n",
      "146       3\n",
      "147      Um\n",
      "148       2\n",
      "149      Um\n",
      "Name: Tipo, dtype: object\n"
     ]
    }
   ],
   "source": [
    "print(data['Tipo'])"
   ]
  },
  {
   "cell_type": "markdown",
   "metadata": {},
   "source": [
    "Agora precisamos montar o conjunto e mapear o mesmo com os nomes de cada classe"
   ]
  },
  {
   "cell_type": "code",
   "execution_count": 5,
   "metadata": {},
   "outputs": [
    {
     "name": "stdout",
     "output_type": "stream",
     "text": [
      "A que classe [dois] pertence?\n",
      "2\n",
      "A que classe [tres] pertence?\n",
      "3\n",
      "A que classe [3] pertence?\n",
      "3\n",
      "A que classe [1] pertence?\n",
      "1\n",
      "A que classe [três] pertence?\n",
      "3\n",
      "A que classe [Três] pertence?\n",
      "3\n",
      "A que classe [Dois] pertence?\n",
      "2\n",
      "A que classe [2] pertence?\n",
      "2\n",
      "A que classe [Um] pertence?\n",
      "1\n",
      "A que classe [Tres] pertence?\n",
      "3\n"
     ]
    }
   ],
   "source": [
    "# pegando apenas uma ocorrência de cada palavra\n",
    "conjunto = set(data['Tipo'])\n",
    "\n",
    "#dicionário \n",
    "mapa = dict()\n",
    "\n",
    "#mapeando os nomes \n",
    "for element in conjunto:\n",
    "    print(\"A que classe [%s] pertence?\" %(element))\n",
    "    mapa[element]=input()"
   ]
  },
  {
   "cell_type": "markdown",
   "metadata": {},
   "source": [
    "Visualizando esse dado"
   ]
  },
  {
   "cell_type": "code",
   "execution_count": 6,
   "metadata": {},
   "outputs": [
    {
     "name": "stdout",
     "output_type": "stream",
     "text": [
      "{'dois': '2', '1': '1', 'três': '3', 'tres': '3', 'Três': '3', 'Dois': '2', '2': '2', 'Um': '1', 'Tres': '3', '3': '3'}\n"
     ]
    }
   ],
   "source": [
    "print(mapa)"
   ]
  },
  {
   "cell_type": "markdown",
   "metadata": {},
   "source": [
    "Agora resta substituir na coluna principal"
   ]
  },
  {
   "cell_type": "code",
   "execution_count": 7,
   "metadata": {},
   "outputs": [],
   "source": [
    "for i in range(data['Tipo'].size):\n",
    "    data['Tipo'][i]=data['Tipo'][i].replace(data['Tipo'][i],mapa[data['Tipo'][i]])"
   ]
  },
  {
   "cell_type": "markdown",
   "metadata": {},
   "source": [
    "O resultado foi:"
   ]
  },
  {
   "cell_type": "code",
   "execution_count": 8,
   "metadata": {},
   "outputs": [
    {
     "name": "stdout",
     "output_type": "stream",
     "text": [
      "0      1\n",
      "1      2\n",
      "2      3\n",
      "3      1\n",
      "4      1\n",
      "5      1\n",
      "6      2\n",
      "7      3\n",
      "8      1\n",
      "9      1\n",
      "10     1\n",
      "11     3\n",
      "12     3\n",
      "13     2\n",
      "14     2\n",
      "15     3\n",
      "16     2\n",
      "17     2\n",
      "18     3\n",
      "19     1\n",
      "20     1\n",
      "21     1\n",
      "22     3\n",
      "23     1\n",
      "24     3\n",
      "25     1\n",
      "26     3\n",
      "27     3\n",
      "28     1\n",
      "29     2\n",
      "      ..\n",
      "120    3\n",
      "121    1\n",
      "122    3\n",
      "123    3\n",
      "124    1\n",
      "125    2\n",
      "126    2\n",
      "127    1\n",
      "128    3\n",
      "129    2\n",
      "130    2\n",
      "131    3\n",
      "132    3\n",
      "133    1\n",
      "134    2\n",
      "135    2\n",
      "136    3\n",
      "137    1\n",
      "138    3\n",
      "139    1\n",
      "140    3\n",
      "141    3\n",
      "142    2\n",
      "143    3\n",
      "144    2\n",
      "145    1\n",
      "146    3\n",
      "147    1\n",
      "148    2\n",
      "149    1\n",
      "Name: Tipo, dtype: object\n"
     ]
    }
   ],
   "source": [
    "print(data['Tipo'])"
   ]
  },
  {
   "cell_type": "markdown",
   "metadata": {},
   "source": [
    "Ainda precisamos substituir a ',' por '.' no resto do nosso conjuno de dados, para isso definimos a função"
   ]
  },
  {
   "cell_type": "code",
   "execution_count": 9,
   "metadata": {
    "collapsed": true
   },
   "outputs": [],
   "source": [
    "def replacing(col):\n",
    "    for i in range(col.size):\n",
    "        col[i]=col[i].replace(',','.')"
   ]
  },
  {
   "cell_type": "markdown",
   "metadata": {},
   "source": [
    "Realizando para todas as colunas "
   ]
  },
  {
   "cell_type": "code",
   "execution_count": 10,
   "metadata": {},
   "outputs": [],
   "source": [
    "replacing(data['comprimento corpo'])\n",
    "replacing(data['largura corpo'])\n",
    "replacing(data['comprimento flagelo'])\n",
    "replacing(data['largura flagelo'])\n"
   ]
  },
  {
   "cell_type": "markdown",
   "metadata": {},
   "source": [
    "Dado final:"
   ]
  },
  {
   "cell_type": "code",
   "execution_count": 11,
   "metadata": {},
   "outputs": [
    {
     "name": "stdout",
     "output_type": "stream",
     "text": [
      "    comprimento corpo largura corpo comprimento flagelo largura flagelo Tipo\n",
      "0                 4.6           3.2                 1.4             0.2    1\n",
      "1                 5.9             3                 4.2             1.5    2\n",
      "2                 7.7           2.8                 6.7               2    3\n",
      "3                 5.2           3.5                 1.5             0.2    1\n",
      "4                   5           3.3                 1.4             0.2    1\n",
      "5                 4.9           3.1                 1.5             0.1    1\n",
      "6                 5.8           2.7                 3.9             1.2    2\n",
      "7                 6.4           2.7                 5.3             1.9    3\n",
      "8                 4.4           3.2                 1.3             0.2    1\n",
      "9                   5           3.4                 1.5             0.2    1\n",
      "10                4.7           3.2                 1.3             0.2    1\n",
      "11                6.2           2.8                 4.8             1.8    3\n",
      "12                6.9           3.1                 5.1             2.3    3\n",
      "13                5.5           2.4                 3.7               1    2\n",
      "14                5.6           2.5                 3.9             1.1    2\n",
      "15                6.3           2.9                 5.6             1.8    3\n",
      "16                  6           2.7                 5.1             1.6    2\n",
      "17                5.7           2.8                 4.5             1.3    2\n",
      "18                6.5             3                 5.2               2    3\n",
      "19                  5           3.4                 1.6             0.4    1\n",
      "20                5.1           3.7                 1.5             0.4    1\n",
      "21                5.5           3.5                 1.3             0.2    1\n",
      "22                7.3           2.9                 6.3             1.8    3\n",
      "23                5.4           3.4                 1.5             0.4    1\n",
      "24                5.7           2.5                   5               2    3\n",
      "25                4.9           3.1                 1.5             0.1    1\n",
      "26                7.7             3                 6.1             2.3    3\n",
      "27                6.4           3.2                 5.3             2.3    3\n",
      "28                5.1           3.8                 1.9             0.4    1\n",
      "29                5.5           2.5                   4             1.3    2\n",
      "..                ...           ...                 ...             ...  ...\n",
      "120               6.3           2.7                 4.9             1.8    3\n",
      "121               5.5           4.2                 1.4             0.2    1\n",
      "122               6.4           3.1                 5.5             1.8    3\n",
      "123               6.3           3.3                   6             2.5    3\n",
      "124               5.2           3.4                 1.4             0.2    1\n",
      "125               5.5           2.3                   4             1.3    2\n",
      "126               6.3           2.3                 4.4             1.3    2\n",
      "127               4.4           2.9                 1.4             0.2    1\n",
      "128               6.7           3.1                 5.6             2.4    3\n",
      "129               6.2           2.9                 4.3             1.3    2\n",
      "130               5.1           2.5                   3             1.1    2\n",
      "131               7.1             3                 5.9             2.1    3\n",
      "132               6.3           2.5                   5             1.9    3\n",
      "133               5.1           3.5                 1.4             0.2    1\n",
      "134                 6           2.9                 4.5             1.5    2\n",
      "135               5.6           2.7                 4.2             1.3    2\n",
      "136               6.9           3.2                 5.7             2.3    3\n",
      "137               5.4           3.4                 1.7             0.2    1\n",
      "138               6.5             3                 5.5             1.8    3\n",
      "139               5.2           4.1                 1.5             0.1    1\n",
      "140               7.2           3.2                   6             1.8    3\n",
      "141               5.6           2.8                 4.9               2    3\n",
      "142               5.5           2.4                 3.8             1.1    2\n",
      "143               6.3           2.8                 5.1             1.5    3\n",
      "144               6.8           2.8                 4.8             1.4    2\n",
      "145               5.1           3.3                 1.7             0.5    1\n",
      "146               5.9             3                 5.1             1.8    3\n",
      "147               4.9             3                 1.4             0.2    1\n",
      "148               6.9           3.1                 4.9             1.5    2\n",
      "149               4.8             3                 1.4             0.3    1\n",
      "\n",
      "[150 rows x 5 columns]\n"
     ]
    }
   ],
   "source": [
    "print(data)"
   ]
  },
  {
   "cell_type": "markdown",
   "metadata": {},
   "source": [
    "Salvando em um arquivo .csv"
   ]
  },
  {
   "cell_type": "code",
   "execution_count": 12,
   "metadata": {
    "collapsed": true
   },
   "outputs": [],
   "source": [
    "data.to_csv('resultado.csv')"
   ]
  }
 ],
 "metadata": {
  "kernelspec": {
   "display_name": "Python 3",
   "language": "python",
   "name": "python3"
  },
  "language_info": {
   "codemirror_mode": {
    "name": "ipython",
    "version": 3
   },
   "file_extension": ".py",
   "mimetype": "text/x-python",
   "name": "python",
   "nbconvert_exporter": "python",
   "pygments_lexer": "ipython3",
   "version": "3.5.2"
  }
 },
 "nbformat": 4,
 "nbformat_minor": 2
}
