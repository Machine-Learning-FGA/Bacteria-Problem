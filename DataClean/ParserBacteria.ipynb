{
 "cells": [
  {
   "cell_type": "markdown",
   "metadata": {},
   "source": [
    "# Parser for the Bacteria.txt data"
   ]
  },
  {
   "cell_type": "markdown",
   "metadata": {},
   "source": [
    "## First we start importing the libraries\n",
    "codecs library is for dealling with different encodings in data files     \n",
    "re library is for regex handling      \n",
    "csv is used to read and write in .csv files      "
   ]
  },
  {
   "cell_type": "code",
   "execution_count": 3,
   "metadata": {
    "collapsed": true
   },
   "outputs": [],
   "source": [
    "import codecs\n",
    "import re\n",
    "import csv"
   ]
  },
  {
   "cell_type": "code",
   "execution_count": 4,
   "metadata": {
    "collapsed": true
   },
   "outputs": [],
   "source": [
    "# first we set the path for the file\n",
    "filename = 'AM_Dados_BacteriasTxt.txt'"
   ]
  },
  {
   "cell_type": "code",
   "execution_count": 9,
   "metadata": {},
   "outputs": [
    {
     "name": "stdout",
     "output_type": "stream",
     "text": [
      "Word not parsed 'Tipo'\n",
      "File parsed. Created file dataset_bacteria.csv!\n"
     ]
    }
   ],
   "source": [
    "# Then we use the codecs library to open the file with utf-8 encoding for read purposes \n",
    "with codecs.open(filename, 'r', encoding='utf-8', errors='ignore') as dataset:\n",
    "    # First treatment for the data\n",
    "    lines = dataset.read().splitlines() # Then split the file into lines, that form an array with strings for each line\n",
    "    stripped = [line.replace(',', '.') for line in lines] # Replace the commas in numbers to dots\n",
    "    stripped = [line.replace(' ', '').split() for line in stripped] # And remove blank spaces between words\n",
    "    \n",
    "    # Then we fix the class column, put everything in conformity\n",
    "    parser = []\n",
    "    for line in stripped:\n",
    "        # Search only for the last column \n",
    "        if re.match('(\\w+(1|[Uu]m))', line[4]): # Find where reference 'um' or 1 and simmilar\n",
    "            line[4] = '1' # Change for 1\n",
    "        elif re.match('(\\w+(2|[Dd]ois))', line[4]):\n",
    "            line[4] = '2'\n",
    "        elif re.match('(\\w+(3|[Tt]r?s|[Tt]res))', line[4]):\n",
    "            line[4] = '3'\n",
    "        else: # If not found print it\n",
    "            print('Word not parsed \\'%s\\'' % line[4])\n",
    "        parser.append(line) # Put everything together\n",
    "    # Create a .csv file with the clean data\n",
    "    out_file_name = 'dataset_bacteria.csv'\n",
    "    with open(out_file_name, 'w') as out_file:\n",
    "        writer = csv.writer(out_file)\n",
    "        writer.writerows(parser) # Write to file\n",
    "        print('File parsed. Created file %s!' % out_file_name)"
   ]
  },
  {
   "cell_type": "code",
   "execution_count": null,
   "metadata": {
    "collapsed": true
   },
   "outputs": [],
   "source": []
  }
 ],
 "metadata": {
  "kernelspec": {
   "display_name": "Python 3",
   "language": "python",
   "name": "python3"
  },
  "language_info": {
   "codemirror_mode": {
    "name": "ipython",
    "version": 3
   },
   "file_extension": ".py",
   "mimetype": "text/x-python",
   "name": "python",
   "nbconvert_exporter": "python",
   "pygments_lexer": "ipython3",
   "version": "3.6.1"
  }
 },
 "nbformat": 4,
 "nbformat_minor": 2
}
