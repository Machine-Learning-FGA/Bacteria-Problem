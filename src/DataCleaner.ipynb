{
 "cells": [
  {
   "cell_type": "code",
   "execution_count": 72,
   "metadata": {
    "collapsed": true
   },
   "outputs": [],
   "source": [
    "import pandas as pd"
   ]
  },
  {
   "cell_type": "code",
   "execution_count": 73,
   "metadata": {
    "collapsed": true
   },
   "outputs": [],
   "source": [
    "data = pd.read_csv('data.csv', sep = '\\t')\n",
    "    \n",
    "for i in range(data['Tipo'].size):\n",
    "    data['Tipo'][i] = data['Tipo'][i].lower()\n",
    "    word = data['Tipo'][i].split()\n",
    "    data['Tipo'][i] = word[1]\n",
    "    \n",
    "    if(data['Tipo'][i] == '1') or (data['Tipo'][i] == 'um'):\n",
    "        data['Tipo'][i] = 1\n",
    "    elif(data['Tipo'][i] == '2') or (data['Tipo'][i] == 'dois'):\n",
    "        data['Tipo'][i] = 2\n",
    "    elif(data['Tipo'][i] == '3') or ('tr' in data['Tipo'][i]):\n",
    "        data['Tipo'][i] = 3\n",
    "        \n",
    "    data['comprimento corpo'][i] = data['comprimento corpo'][i].replace(',','.')\n",
    "    data['largura corpo'][i] = data['largura corpo'][i].replace(',','.')\n",
    "    data['comprimento flagelo'][i] = data['comprimento flagelo'][i].replace(',','.')\n",
    "    data['largura flagelo'][i] = data['largura flagelo'][i].replace(',','.')\n",
    "\n",
    "        \n",
    "        "
   ]
  },
  {
   "cell_type": "code",
   "execution_count": 76,
   "metadata": {},
   "outputs": [],
   "source": [
    "data.to_csv('data_cleaned.csv', sep = '\\t')"
   ]
  },
  {
   "cell_type": "code",
   "execution_count": null,
   "metadata": {
    "collapsed": true,
    "scrolled": true
   },
   "outputs": [],
   "source": [
    "\n"
   ]
  },
  {
   "cell_type": "code",
   "execution_count": null,
   "metadata": {
    "collapsed": true
   },
   "outputs": [],
   "source": []
  },
  {
   "cell_type": "code",
   "execution_count": null,
   "metadata": {
    "collapsed": true
   },
   "outputs": [],
   "source": []
  }
 ],
 "metadata": {
  "kernelspec": {
   "display_name": "Python 2",
   "language": "python",
   "name": "python2"
  },
  "language_info": {
   "codemirror_mode": {
    "name": "ipython",
    "version": 2
   },
   "file_extension": ".py",
   "mimetype": "text/x-python",
   "name": "python",
   "nbconvert_exporter": "python",
   "pygments_lexer": "ipython2",
   "version": "2.7.13"
  }
 },
 "nbformat": 4,
 "nbformat_minor": 2
}
