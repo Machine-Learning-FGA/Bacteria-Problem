{
 "cells": [
  {
   "cell_type": "code",
   "execution_count": 45,
   "metadata": {},
   "outputs": [],
   "source": [
    "import pandas as pd"
   ]
  },
  {
   "cell_type": "code",
   "execution_count": 57,
   "metadata": {},
   "outputs": [],
   "source": [
    "data = pd.read_csv('data.csv', sep = '\\t')\n",
    "    \n",
    "for i in range(data['Tipo'].size):\n",
    "    data['Tipo'][i] = data['Tipo'][i].lower()\n",
    "    word = data['Tipo'][i].split()\n",
    "    data['Tipo'][i] = word[1]\n",
    "    \n",
    "    if(data['Tipo'][i] == '1') or (data['Tipo'][i] == 'um'):\n",
    "        data['Tipo'][i] = 1\n",
    "    elif(data['Tipo'][i] == '2') or (data['Tipo'][i] == 'dois'):\n",
    "        data['Tipo'][i] = 2\n",
    "    elif(data['Tipo'][i] == '3') or ('tr' in data['Tipo'][i]):\n",
    "        data['Tipo'][i] = 3"
   ]
  },
  {
   "cell_type": "code",
   "execution_count": 58,
   "metadata": {},
   "outputs": [
    {
     "name": "stdout",
     "output_type": "stream",
     "text": [
      "0         1\n",
      "1         2\n",
      "2         3\n",
      "3         1\n",
      "4         1\n",
      "5         1\n",
      "6         2\n",
      "7         3\n",
      "8         1\n",
      "9         1\n",
      "10        1\n",
      "11        3\n",
      "12        3\n",
      "13        2\n",
      "14        2\n",
      "15        3\n",
      "16        2\n",
      "17        2\n",
      "18        3\n",
      "19        1\n",
      "20        1\n",
      "21        1\n",
      "22        3\n",
      "23        1\n",
      "24        3\n",
      "25        1\n",
      "26        3\n",
      "27        3\n",
      "28        1\n",
      "29        2\n",
      "       ... \n",
      "120    tres\n",
      "121       1\n",
      "122       3\n",
      "123       3\n",
      "124       1\n",
      "125       2\n",
      "126       2\n",
      "127       1\n",
      "128       3\n",
      "129       2\n",
      "130       2\n",
      "131       3\n",
      "132       3\n",
      "133       1\n",
      "134       2\n",
      "135       2\n",
      "136    tres\n",
      "137       1\n",
      "138       3\n",
      "139       1\n",
      "140       3\n",
      "141       3\n",
      "142       2\n",
      "143       3\n",
      "144       2\n",
      "145       1\n",
      "146       3\n",
      "147       1\n",
      "148       2\n",
      "149       1\n",
      "Name: Tipo, Length: 150, dtype: object\n"
     ]
    }
   ],
   "source": [
    "print data['Tipo']"
   ]
  },
  {
   "cell_type": "code",
   "execution_count": null,
   "metadata": {
    "scrolled": true
   },
   "outputs": [],
   "source": [
    "\n"
   ]
  },
  {
   "cell_type": "code",
   "execution_count": null,
   "metadata": {},
   "outputs": [],
   "source": []
  },
  {
   "cell_type": "code",
   "execution_count": null,
   "metadata": {
    "collapsed": true
   },
   "outputs": [],
   "source": []
  }
 ],
 "metadata": {
  "kernelspec": {
   "display_name": "Python 2",
   "language": "python",
   "name": "python2"
  },
  "language_info": {
   "codemirror_mode": {
    "name": "ipython",
    "version": 2
   },
   "file_extension": ".py",
   "mimetype": "text/x-python",
   "name": "python",
   "nbconvert_exporter": "python",
   "pygments_lexer": "ipython2",
   "version": "2.7.13"
  }
 },
 "nbformat": 4,
 "nbformat_minor": 2
}
