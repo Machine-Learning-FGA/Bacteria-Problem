{
 "cells": [
  {
   "cell_type": "code",
   "execution_count": null,
   "metadata": {
    "collapsed": true
   },
   "outputs": [],
   "source": [
    "import codecs\n",
    "import re\n",
    "import csv"
   ]
  },
  {
   "cell_type": "code",
   "execution_count": 2,
   "metadata": {
    "collapsed": true
   },
   "outputs": [],
   "source": [
    "file_name = 'AM_Dados_BacteriasTxt.txt'"
   ]
  },
  {
   "cell_type": "code",
   "execution_count": 3,
   "metadata": {},
   "outputs": [
    {
     "name": "stdout",
     "output_type": "stream",
     "text": [
      "Word not parsed 'Tipo'\n",
      "File parsed. Created file dataset_bacteria.csv!\n"
     ]
    }
   ],
   "source": [
    "with codecs.open(file_name, 'r', encoding='utf-8', errors='ignore') as dataset:\n",
    "    \n",
    "    lines = dataset.read().splitlines()\n",
    "    \n",
    "    stripped = [line.replace(',', '.') for line in lines]\n",
    "    stripped = [line.replace(' ', '').split() for line in stripped]\n",
    "    \n",
    "    parser = []\n",
    "    \n",
    "    for line in stripped:\n",
    "        if re.match('(\\w+(1|[Uu]m))', line[4]):\n",
    "            line[4] = '1'\n",
    "        elif re.match('(\\w+(2|[Dd]ois))', line[4]):\n",
    "            line[4] = '2'\n",
    "        elif re.match('(\\w+(3|[Tt]r?s|[Tt]res))', line[4]):\n",
    "            line[4] = '3'\n",
    "        else:\n",
    "            print('Word not parsed \\'%s\\'' % line[4])\n",
    "        parser.append(line) \n",
    "        \n",
    "    out_file_name = 'dataset_bacteria.csv'\n",
    "    \n",
    "    with open(out_file_name, 'w') as out_file:\n",
    "        writer = csv.writer(out_file)\n",
    "        writer.writerows(parser)\n",
    "        print('File parsed. Created file %s!' % out_file_name)"
   ]
  }
 ],
 "metadata": {
  "kernelspec": {
   "display_name": "Python 2",
   "language": "python",
   "name": "python2"
  },
  "language_info": {
   "codemirror_mode": {
    "name": "ipython",
    "version": 2
   },
   "file_extension": ".py",
   "mimetype": "text/x-python",
   "name": "python",
   "nbconvert_exporter": "python",
   "pygments_lexer": "ipython2",
   "version": "2.7.13"
  }
 },
 "nbformat": 4,
 "nbformat_minor": 2
}
