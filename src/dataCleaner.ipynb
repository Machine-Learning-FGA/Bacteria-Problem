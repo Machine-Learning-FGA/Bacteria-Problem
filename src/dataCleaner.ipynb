{
 "cells": [
  {
   "cell_type": "code",
   "execution_count": 67,
   "metadata": {
    "collapsed": true
   },
   "outputs": [],
   "source": [
    "import pandas as pd\n",
    "import re as replace\n",
    "\n",
    "data_csv = pd.read_csv('./data/data.tsv', sep='\\t')\n",
    "rows = data_csv.shape[0]\n",
    "\n",
    "for i in range(0,rows):\n",
    "    data_csv['comprimento corpo'][i] = replace.sub(r\",\", \".\", data_csv['comprimento corpo'][i])\n",
    "    data_csv['largura corpo'][i] = replace.sub(r\",\", \".\", data_csv['largura corpo'][i])\n",
    "    data_csv['comprimento flagelo'][i] = replace.sub(r\",\", \".\", data_csv['comprimento flagelo'][i])\n",
    "    data_csv['largura flagelo'][i] = replace.sub(r\",\", \".\", data_csv['largura flagelo'][i])\n",
    "    data_csv['Tipo'][i] = data_csv['Tipo'][i].lower()\n",
    "    if('1' in data_csv['Tipo'][i]) or ('um' in data_csv['Tipo'][i]):\n",
    "        data_csv['Tipo'][i] = 1\n",
    "    elif('2' in data_csv['Tipo'][i]) or ('dois' in data_csv['Tipo'][i]):\n",
    "        data_csv['Tipo'][i] = 2\n",
    "    elif('3' in data_csv['Tipo'][i]) or ('tr' in data_csv['Tipo'][i]):\n",
    "        data_csv['Tipo'][i] = 3\n",
    "        \n",
    "data_csv.to_csv('./data/data_cleaned.tsv', sep='\\t')"
   ]
  },
  {
   "cell_type": "code",
   "execution_count": null,
   "metadata": {
    "collapsed": true
   },
   "outputs": [],
   "source": []
  }
 ],
 "metadata": {
  "kernelspec": {
   "display_name": "Python 2",
   "language": "python",
   "name": "python2"
  },
  "language_info": {
   "codemirror_mode": {
    "name": "ipython",
    "version": 2
   },
   "file_extension": ".py",
   "mimetype": "text/x-python",
   "name": "python",
   "nbconvert_exporter": "python",
   "pygments_lexer": "ipython2",
   "version": "2.7.13"
  }
 },
 "nbformat": 4,
 "nbformat_minor": 2
}
