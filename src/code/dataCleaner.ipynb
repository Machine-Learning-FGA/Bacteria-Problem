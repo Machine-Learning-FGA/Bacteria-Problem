{
 "cells": [
  {
   "cell_type": "code",
   "execution_count": 71,
   "metadata": {
    "collapsed": true
   },
   "outputs": [],
   "source": [
    "import pandas as pd\n",
    "import re as replace\n",
    "import math"
   ]
  },
  {
   "cell_type": "code",
   "execution_count": 72,
   "metadata": {
    "collapsed": true
   },
   "outputs": [],
   "source": [
    "data_csv = pd.read_csv('../data/data.tsv', sep='\\t')\n",
    "rows = data_csv.shape[0]"
   ]
  },
  {
   "cell_type": "code",
   "execution_count": 73,
   "metadata": {
    "collapsed": true
   },
   "outputs": [],
   "source": [
    "for i in range(0,rows):\n",
    "    data_csv['comprimento corpo'][i] = replace.sub(r\",\", \".\", data_csv['comprimento corpo'][i])\n",
    "    data_csv['largura corpo'][i] = replace.sub(r\",\", \".\", data_csv['largura corpo'][i])\n",
    "    data_csv['comprimento flagelo'][i] = replace.sub(r\",\", \".\", data_csv['comprimento flagelo'][i])\n",
    "    data_csv['largura flagelo'][i] = replace.sub(r\",\", \".\", data_csv['largura flagelo'][i])\n",
    "    data_csv['Tipo'][i] = data_csv['Tipo'][i].lower()\n",
    "    if('1' in data_csv['Tipo'][i]) or ('um' in data_csv['Tipo'][i]):\n",
    "        data_csv['Tipo'][i] = 1\n",
    "    elif('2' in data_csv['Tipo'][i]) or ('dois' in data_csv['Tipo'][i]):\n",
    "        data_csv['Tipo'][i] = 2\n",
    "    elif('3' in data_csv['Tipo'][i]) or ('tr' in data_csv['Tipo'][i]):\n",
    "        data_csv['Tipo'][i] = 3"
   ]
  },
  {
   "cell_type": "code",
   "execution_count": 74,
   "metadata": {
    "collapsed": true
   },
   "outputs": [],
   "source": [
    "data_csv.to_csv('../data/data_cleaned.tsv', sep='\\t')"
   ]
  },
  {
   "cell_type": "code",
   "execution_count": 75,
   "metadata": {},
   "outputs": [],
   "source": [
    "data_csv = pd.read_csv('../data/data_cleaned.tsv', sep='\\t')"
   ]
  },
  {
   "cell_type": "code",
   "execution_count": 76,
   "metadata": {
    "collapsed": true
   },
   "outputs": [],
   "source": [
    "columns = ['volume_corpo','volume_flagelo', 'tipo_bacteria']\n",
    "new_csv = pd.DataFrame(columns=columns)\n",
    "data = []"
   ]
  },
  {
   "cell_type": "code",
   "execution_count": 78,
   "metadata": {},
   "outputs": [],
   "source": [
    "for i in range(0,rows-50):\n",
    "    volume_corpo = data_csv['comprimento corpo'][i]*((data_csv['largura corpo'][i]/2)**2)*math.pi\n",
    "    volume_flagelo = data_csv['comprimento flagelo'][i]*((data_csv['largura flagelo'][i]/2)**2)*math.pi\n",
    "    tipo_bacteria = data_csv['Tipo'][i]\n",
    "    data.append([volume_corpo, volume_flagelo, tipo_bacteria])"
   ]
  },
  {
   "cell_type": "code",
   "execution_count": 79,
   "metadata": {},
   "outputs": [],
   "source": [
    "new_csv = pd.DataFrame(data, columns=columns)"
   ]
  },
  {
   "cell_type": "code",
   "execution_count": 80,
   "metadata": {},
   "outputs": [
    {
     "name": "stdout",
     "output_type": "stream",
     "text": [
      "     volume_corpo  volume_flagelo  tipo_bacteria\n",
      "0       36.995395        0.043982              1\n",
      "1       41.704642        7.422013              2\n",
      "2       47.412916       21.048671              3\n",
      "3       50.029863        0.047124              1\n",
      "4       42.764930        0.043982              1\n",
      "5       36.983614        0.011781              1\n",
      "6       33.208205        4.410796              2\n",
      "7       36.643537       15.027023              3\n",
      "8       35.386900        0.040841              1\n",
      "9       45.396014        0.047124              1\n",
      "10      37.799643        0.040841              1\n",
      "11      38.176634       12.214512              3\n",
      "12      52.078967       21.189257              3\n",
      "13      24.881414        2.905973              2\n",
      "14      27.488936        3.706294              2\n",
      "15      41.612751       14.250264              3\n",
      "16      34.353316       10.254158              2\n",
      "17      35.097873        5.972953              2\n",
      "18      45.945793       16.336282              3\n",
      "19      45.396014        0.201062              1\n",
      "20      54.835714        0.188496              1\n",
      "21      52.916201        0.040841              1\n",
      "22      48.217949       16.031547              3\n",
      "23      49.027695        0.188496              1\n",
      "24      27.979810       15.707963              3\n",
      "25      36.983614        0.011781              1\n",
      "26      54.428093       25.344013              3\n",
      "27      51.471854       22.020208              3\n",
      "28      57.839862        0.238761              1\n",
      "29      26.998062        5.309292              2\n",
      "..            ...             ...            ...\n",
      "170     20.773781        2.591814              2\n",
      "171     29.772874        6.003584              2\n",
      "172     46.303934        0.047124              1\n",
      "173     57.305006       19.742554              3\n",
      "174     43.118359       12.468981              3\n",
      "175     35.713625       23.071856              3\n",
      "176     64.507893        0.213628              1\n",
      "177     30.925053        8.659015              2\n",
      "178     86.670258        0.188496              1\n",
      "179     40.291711        7.235088              2\n",
      "180     36.983614        0.011781              1\n",
      "181     43.118359        7.081150              2\n",
      "182     45.565660       17.295253              3\n",
      "183     40.212386        0.037699              1\n",
      "184     52.078967       18.703472              3\n",
      "185     33.208205       14.459966              3\n",
      "186     24.052819       10.214103              3\n",
      "187     53.883812        9.449911              2\n",
      "188     30.793891        4.523893              2\n",
      "189     51.471854        7.952156              2\n",
      "190     40.023890        8.128871              2\n",
      "191     64.507893        0.163363              1\n",
      "192     22.807963        3.141593              2\n",
      "193     41.764333        0.098960              1\n",
      "194     31.101767        0.040841              1\n",
      "195     36.989112        4.778362              2\n",
      "196     57.839862        0.050265              1\n",
      "197     46.822297        0.031416              1\n",
      "198     48.105638        0.091892              1\n",
      "199     56.297340        7.235088              2\n",
      "\n",
      "[200 rows x 3 columns]\n"
     ]
    }
   ],
   "source": [
    "print new_csv"
   ]
  },
  {
   "cell_type": "code",
   "execution_count": 81,
   "metadata": {},
   "outputs": [],
   "source": [
    "new_csv.to_csv('../data/data_train.tsv', sep='\\t')"
   ]
  },
  {
   "cell_type": "code",
   "execution_count": 82,
   "metadata": {},
   "outputs": [],
   "source": [
    "data = []\n",
    "for i in range(rows-50,rows):\n",
    "    volume_corpo = data_csv['comprimento corpo'][i]*((data_csv['largura corpo'][i]/2)**2)*math.pi\n",
    "    volume_flagelo = data_csv['comprimento flagelo'][i]*((data_csv['largura flagelo'][i]/2)**2)*math.pi\n",
    "    tipo_bacteria = data_csv['Tipo'][i]\n",
    "    data.append([volume_corpo, volume_flagelo, tipo_bacteria])"
   ]
  },
  {
   "cell_type": "code",
   "execution_count": 83,
   "metadata": {
    "collapsed": true
   },
   "outputs": [],
   "source": [
    "new_csv = pd.DataFrame(data, columns=columns)"
   ]
  },
  {
   "cell_type": "code",
   "execution_count": 84,
   "metadata": {
    "collapsed": true
   },
   "outputs": [],
   "source": [
    "new_csv.to_csv('../data/data_test.tsv', sep='\\t')"
   ]
  },
  {
   "cell_type": "code",
   "execution_count": null,
   "metadata": {
    "collapsed": true
   },
   "outputs": [],
   "source": []
  }
 ],
 "metadata": {
  "kernelspec": {
   "display_name": "Python 2",
   "language": "python",
   "name": "python2"
  },
  "language_info": {
   "codemirror_mode": {
    "name": "ipython",
    "version": 2
   },
   "file_extension": ".py",
   "mimetype": "text/x-python",
   "name": "python",
   "nbconvert_exporter": "python",
   "pygments_lexer": "ipython2",
   "version": "2.7.13"
  }
 },
 "nbformat": 4,
 "nbformat_minor": 2
}
