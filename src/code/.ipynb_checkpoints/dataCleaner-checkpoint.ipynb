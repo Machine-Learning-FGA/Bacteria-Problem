{
 "cells": [
  {
   "cell_type": "code",
   "execution_count": 46,
   "metadata": {
    "collapsed": true
   },
   "outputs": [],
   "source": [
    "import pandas as pd\n",
    "import re as replace\n",
    "import math"
   ]
  },
  {
   "cell_type": "code",
   "execution_count": 47,
   "metadata": {
    "collapsed": true
   },
   "outputs": [],
   "source": [
    "data_csv = pd.read_csv('../data/data.tsv', sep='\\t')\n",
    "rows = data_csv.shape[0]"
   ]
  },
  {
   "cell_type": "code",
   "execution_count": 48,
   "metadata": {
    "collapsed": true
   },
   "outputs": [],
   "source": [
    "for i in range(0,rows):\n",
    "    data_csv['comprimento corpo'][i] = replace.sub(r\",\", \".\", data_csv['comprimento corpo'][i])\n",
    "    data_csv['largura corpo'][i] = replace.sub(r\",\", \".\", data_csv['largura corpo'][i])\n",
    "    data_csv['comprimento flagelo'][i] = replace.sub(r\",\", \".\", data_csv['comprimento flagelo'][i])\n",
    "    data_csv['largura flagelo'][i] = replace.sub(r\",\", \".\", data_csv['largura flagelo'][i])\n",
    "    data_csv['Tipo'][i] = data_csv['Tipo'][i].lower()\n",
    "    if('1' in data_csv['Tipo'][i]) or ('um' in data_csv['Tipo'][i]):\n",
    "        data_csv['Tipo'][i] = 1\n",
    "    elif('2' in data_csv['Tipo'][i]) or ('dois' in data_csv['Tipo'][i]):\n",
    "        data_csv['Tipo'][i] = 2\n",
    "    elif('3' in data_csv['Tipo'][i]) or ('tr' in data_csv['Tipo'][i]):\n",
    "        data_csv['Tipo'][i] = 3"
   ]
  },
  {
   "cell_type": "code",
   "execution_count": 49,
   "metadata": {
    "collapsed": true
   },
   "outputs": [],
   "source": [
    "data_csv.to_csv('../data/data_cleaned.tsv', sep='\\t')"
   ]
  },
  {
   "cell_type": "code",
   "execution_count": 50,
   "metadata": {},
   "outputs": [],
   "source": [
    "data_csv = pd.read_csv('../data/data_cleaned.tsv', sep='\\t')"
   ]
  },
  {
   "cell_type": "code",
   "execution_count": 51,
   "metadata": {
    "collapsed": true
   },
   "outputs": [],
   "source": [
    "columns = ['volume_corpo','volume_flagelo', 'tipo_bacteria']\n",
    "new_csv = pd.DataFrame(columns=columns)\n",
    "data = []"
   ]
  },
  {
   "cell_type": "code",
   "execution_count": 52,
   "metadata": {},
   "outputs": [],
   "source": [
    "for i in range(0,rows-50):\n",
    "    volume_corpo = data_csv['comprimento corpo'][i]*((data_csv['largura corpo'][i]/2)**2)*math.pi\n",
    "    volume_flagelo = data_csv['comprimento flagelo'][i]*((data_csv['largura flagelo'][i]/2)**2)*math.pi\n",
    "    tipo_bacteria = data_csv['Tipo'][i]\n",
    "    data.append([volume_corpo, volume_flagelo, tipo_bacteria])"
   ]
  },
  {
   "cell_type": "code",
   "execution_count": 53,
   "metadata": {},
   "outputs": [],
   "source": [
    "new_csv = pd.DataFrame(data, columns=columns)"
   ]
  },
  {
   "cell_type": "code",
   "execution_count": 54,
   "metadata": {},
   "outputs": [
    {
     "name": "stdout",
     "output_type": "stream",
     "text": [
      "     volume_corpo  volume_flagelo  tipo_bacteria\n",
      "0       36.995395        0.043982              1\n",
      "1       41.704642        7.422013              2\n",
      "2       47.412916       21.048671              3\n",
      "3       50.029863        0.047124              1\n",
      "4       42.764930        0.043982              1\n",
      "5       36.983614        0.011781              1\n",
      "6       33.208205        4.410796              2\n",
      "7       36.643537       15.027023              3\n",
      "8       35.386900        0.040841              1\n",
      "9       45.396014        0.047124              1\n",
      "10      37.799643        0.040841              1\n",
      "11      38.176634       12.214512              3\n",
      "12      52.078967       21.189257              3\n",
      "13      24.881414        2.905973              2\n",
      "14      27.488936        3.706294              2\n",
      "15      41.612751       14.250264              3\n",
      "16      34.353316       10.254158              2\n",
      "17      35.097873        5.972953              2\n",
      "18      45.945793       16.336282              3\n",
      "19      45.396014        0.201062              1\n",
      "20      54.835714        0.188496              1\n",
      "21      52.916201        0.040841              1\n",
      "22      48.217949       16.031547              3\n",
      "23      49.027695        0.188496              1\n",
      "24      27.979810       15.707963              3\n",
      "25      36.983614        0.011781              1\n",
      "26      54.428093       25.344013              3\n",
      "27      51.471854       22.020208              3\n",
      "28      57.839862        0.238761              1\n",
      "29      26.998062        5.309292              2\n",
      "..            ...             ...            ...\n",
      "120     36.070981       12.468981              3\n",
      "121     76.199330        0.043982              1\n",
      "122     48.305129       13.995795              3\n",
      "123     53.883812       29.452431              3\n",
      "124     47.211854        0.043982              1\n",
      "125     22.851160        5.309292              2\n",
      "126     26.174965        5.840221              2\n",
      "127     29.062874        0.043982              1\n",
      "128     50.569432       25.333803              3\n",
      "129     40.952231        5.707488              2\n",
      "130     25.034566        2.850995              2\n",
      "131     50.186943       20.435275              3\n",
      "132     30.925053       14.176437              3\n",
      "133     49.067750        0.043982              1\n",
      "134     39.631191        7.952156              2\n",
      "135     32.063095        5.574756              2\n",
      "136     55.493093       23.682111              3\n",
      "137     49.027695        0.053407              1\n",
      "138     45.945793       13.995795              3\n",
      "139     68.653224        0.011781              1\n",
      "140     57.905836       15.268140              3\n",
      "141     34.482121       15.393804              3\n",
      "142     24.881414        3.611261              2\n",
      "143     38.792386        9.012444              3\n",
      "144     41.871147        7.389026              2\n",
      "145     43.620229        0.333794              1\n",
      "146     41.704642       12.977919              3\n",
      "147     34.636059        0.043982              1\n",
      "148     52.078967        8.659015              2\n",
      "149     33.929201        0.098960              1\n",
      "\n",
      "[150 rows x 3 columns]\n"
     ]
    }
   ],
   "source": [
    "print new_csv"
   ]
  },
  {
   "cell_type": "code",
   "execution_count": 55,
   "metadata": {},
   "outputs": [],
   "source": [
    "new_csv.to_csv('../data/data_train.tsv', sep='\\t')"
   ]
  },
  {
   "cell_type": "code",
   "execution_count": null,
   "metadata": {},
   "outputs": [],
   "source": []
  },
  {
   "cell_type": "code",
   "execution_count": null,
   "metadata": {
    "collapsed": true
   },
   "outputs": [],
   "source": []
  }
 ],
 "metadata": {
  "kernelspec": {
   "display_name": "Python 2",
   "language": "python",
   "name": "python2"
  },
  "language_info": {
   "codemirror_mode": {
    "name": "ipython",
    "version": 2
   },
   "file_extension": ".py",
   "mimetype": "text/x-python",
   "name": "python",
   "nbconvert_exporter": "python",
   "pygments_lexer": "ipython2",
   "version": "2.7.13"
  }
 },
 "nbformat": 4,
 "nbformat_minor": 2
}
