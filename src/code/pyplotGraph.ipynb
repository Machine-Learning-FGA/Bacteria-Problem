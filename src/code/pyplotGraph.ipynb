{
 "cells": [
  {
   "cell_type": "code",
   "execution_count": 7,
   "metadata": {
    "collapsed": true
   },
   "outputs": [],
   "source": [
    "import matplotlib.pyplot as pyplot\n",
    "import numpy as np\n",
    "import pandas as pd\n",
    "import math"
   ]
  },
  {
   "cell_type": "code",
   "execution_count": 8,
   "metadata": {
    "collapsed": true
   },
   "outputs": [],
   "source": [
    "comprimento_corpo = []\n",
    "comprimento_flagelo = []\n",
    "largura_corpo = []\n",
    "largura_flagelo = []\n",
    "tipo_bacteria = []\n",
    "data_tsv = pd.read_csv('../data/data_cleaned.tsv', sep='\\t')\n",
    "rows = data_tsv.shape[0]\n",
    "\n",
    "for i in range(0, rows):\n",
    "    comprimento_corpo.append(data_tsv['comprimento corpo'][i])\n",
    "    comprimento_flagelo.append(data_tsv['comprimento flagelo'][i])\n",
    "    largura_corpo.append(data_tsv['largura corpo'][i])\n",
    "    largura_flagelo.append(data_tsv['largura flagelo'][i])\n",
    "    tipo_bacteria.append(data_tsv['Tipo'][i])"
   ]
  },
  {
   "cell_type": "code",
   "execution_count": 9,
   "metadata": {
    "collapsed": true
   },
   "outputs": [],
   "source": [
    "volume_corpo_1 = []\n",
    "volume_corpo_2 = []\n",
    "volume_corpo_3 = []\n",
    "volume_flagelo_1 = []\n",
    "volume_flagelo_2 = []\n",
    "volume_flagelo_3 = []\n",
    "\n",
    "for i,j,l in zip(comprimento_corpo,largura_corpo, tipo_bacteria):\n",
    "    if(l == 1):\n",
    "        volume_corpo_1.append(i*((j/2)**2)*math.pi)\n",
    "    elif(l == 2):\n",
    "        volume_corpo_2.append(i*((j/2)**2)*math.pi)\n",
    "    elif(l == 3):\n",
    "        volume_corpo_3.append(i*((j/2)**2)*math.pi)\n",
    "\n",
    "for i,j,l in zip(comprimento_flagelo,largura_flagelo,tipo_bacteria):\n",
    "    if(l == 1):\n",
    "        volume_flagelo_1.append(i*((j/2)**2)*math.pi)\n",
    "    elif(l == 2):\n",
    "        volume_flagelo_2.append(i*((j/2)**2)*math.pi)\n",
    "    elif(l == 3):\n",
    "        volume_flagelo_3.append(i*((j/2)**2)*math.pi)"
   ]
  },
  {
   "cell_type": "code",
   "execution_count": 10,
   "metadata": {},
   "outputs": [
    {
     "data": {
      "image/png": "[encoded data removed]",
      "text/plain": [
       "<matplotlib.figure.Figure at 0x7f597e297490>"
      ]
     },
     "metadata": {},
     "output_type": "display_data"
    }
   ],
   "source": [
    "x = range(100)\n",
    "y = range(100,200)    \n",
    "fig = pyplot.figure()\n",
    "ax1 = fig.add_subplot(111)\n",
    "\n",
    "\n",
    "ax1.scatter(volume_corpo_1, volume_flagelo_1, s=10, c='b', marker=\"s\", label='1')\n",
    "ax1.scatter(volume_corpo_2, volume_flagelo_2, s=10, c='r', marker=\"o\", label='2')\n",
    "ax1.scatter(volume_corpo_3, volume_flagelo_3, s=10, c='g', marker=\"p\", label='3')\n",
    "pyplot.savefig('../graph/grafico_volume.png')\n",
    "pyplot.show()"
   ]
  },
  {
   "cell_type": "code",
   "execution_count": null,
   "metadata": {
    "collapsed": true
   },
   "outputs": [],
   "source": []
  },
  {
   "cell_type": "code",
   "execution_count": null,
   "metadata": {
    "collapsed": true
   },
   "outputs": [],
   "source": []
  }
 ],
 "metadata": {
  "kernelspec": {
   "display_name": "Python 2",
   "language": "python",
   "name": "python2"
  },
  "language_info": {
   "codemirror_mode": {
    "name": "ipython",
    "version": 2
   },
   "file_extension": ".py",
   "mimetype": "text/x-python",
   "name": "python",
   "nbconvert_exporter": "python",
   "pygments_lexer": "ipython2",
   "version": "2.7.13"
  }
 },
 "nbformat": 4,
 "nbformat_minor": 2
}
