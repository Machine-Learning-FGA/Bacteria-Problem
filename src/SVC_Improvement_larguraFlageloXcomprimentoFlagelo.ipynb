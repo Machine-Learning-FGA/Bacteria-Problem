{
 "cells": [
  {
   "cell_type": "markdown",
   "metadata": {},
   "source": [
    "### Importing dependencies"
   ]
  },
  {
   "cell_type": "code",
   "execution_count": 1,
   "metadata": {},
   "outputs": [
    {
     "name": "stderr",
     "output_type": "stream",
     "text": [
      "/opt/conda/lib/python2.7/site-packages/sklearn/cross_validation.py:44: DeprecationWarning: This module was deprecated in version 0.18 in favor of the model_selection module into which all the refactored classes and functions are moved. Also note that the interface of the new CV iterators are different from that of this module. This module will be removed in 0.20.\n",
      "  \"This module will be removed in 0.20.\", DeprecationWarning)\n"
     ]
    }
   ],
   "source": [
    "import pandas as pd\n",
    "import sklearn as sk\n",
    "import numpy as np\n",
    "import matplotlib.pyplot as plt\n",
    "from matplotlib.colors import ListedColormap\n",
    "from sklearn.cross_validation import train_test_split\n",
    "from sklearn.metrics import confusion_matrix\n",
    "from sklearn.svm import SVC"
   ]
  },
  {
   "cell_type": "markdown",
   "metadata": {},
   "source": [
    "### Loading and derivating data for future analisys"
   ]
  },
  {
   "cell_type": "code",
   "execution_count": 2,
   "metadata": {
    "collapsed": true
   },
   "outputs": [],
   "source": [
    "# loading data\n",
    "\n",
    "data = pd.read_csv('dataset_bacteria.csv')\n"
   ]
  },
  {
   "cell_type": "markdown",
   "metadata": {},
   "source": [
    "### Preparing training data"
   ]
  },
  {
   "cell_type": "code",
   "execution_count": 3,
   "metadata": {
    "collapsed": true
   },
   "outputs": [],
   "source": [
    "y = data.iloc[:,4].values\n",
    "x = data.iloc[:,[2,3]].values\n",
    "\n",
    "x_train, x_test, y_train, y_test = train_test_split(x,y,test_size=0.30, random_state = 0)"
   ]
  },
  {
   "cell_type": "markdown",
   "metadata": {},
   "source": [
    "### Creating SVC Models and building analisys graphs (gamma variation = 0.05)"
   ]
  },
  {
   "cell_type": "code",
   "execution_count": 4,
   "metadata": {
    "collapsed": true
   },
   "outputs": [],
   "source": [
    "row = 0\n",
    "scores = []\n",
    "for n in range(0,20):\n",
    "    column = (n % 5)\n",
    "    if column == 0 and n > 0:\n",
    "        row = row + 1\n",
    "        \n",
    "    svc = SVC(kernel='rbf', gamma = (n * 0.05) + 0.01)\n",
    "    svc.fit(x_train,y_train)\n",
    "    y_pred= svc.predict(x_test)\n",
    "    cm = confusion_matrix(y_test,y_pred)\n",
    "    score = svc.score(x_test,y_test)\n",
    "    scores.append(score)\n",
    "\n"
   ]
  },
  {
   "cell_type": "markdown",
   "metadata": {},
   "source": [
    "### Ploting scores for gamma variation"
   ]
  },
  {
   "cell_type": "code",
   "execution_count": 5,
   "metadata": {},
   "outputs": [
    {
     "data": {
      "image/png": "[encoded data removed]",
      "text/plain": [
       "<matplotlib.figure.Figure at 0x7f5fce3190d0>"
      ]
     },
     "metadata": {},
     "output_type": "display_data"
    }
   ],
   "source": [
    "x_axis = [i for i in range(0,20)]\n",
    "plt.scatter(x_axis, scores)\n",
    "plt.title(\"SVC clasification scores for  largura x comprimento flagelo(varying gamma += 0.05)\", fontsize=16, y=1.20)\n",
    "plt.xticks(x_axis)\n",
    "plt.show()"
   ]
  },
  {
   "cell_type": "markdown",
   "metadata": {},
   "source": [
    "#### Therefore, we conclude that any gamma, being gamma >= 0.1 (0.06, more precisely) , leads to the same score"
   ]
  },
  {
   "cell_type": "markdown",
   "metadata": {},
   "source": [
    "### Creating SVC Models and building analisys graphs (gamma constant, C variation = 0.05)"
   ]
  },
  {
   "cell_type": "markdown",
   "metadata": {},
   "source": [
    "### Ploting Score for C variation"
   ]
  },
  {
   "cell_type": "code",
   "execution_count": 6,
   "metadata": {},
   "outputs": [
    {
     "name": "stdout",
     "output_type": "stream",
     "text": [
      "0\n",
      "0.222222222222\n",
      "1\n",
      "0.955555555556\n",
      "2\n",
      "0.933333333333\n",
      "3\n",
      "0.933333333333\n",
      "4\n",
      "0.933333333333\n",
      "5\n",
      "0.933333333333\n",
      "6\n",
      "0.933333333333\n",
      "7\n",
      "0.933333333333\n",
      "8\n",
      "0.933333333333\n",
      "9\n",
      "0.933333333333\n",
      "10\n",
      "0.933333333333\n",
      "11\n",
      "0.933333333333\n",
      "12\n",
      "0.933333333333\n",
      "13\n",
      "0.933333333333\n",
      "14\n",
      "0.933333333333\n",
      "15\n",
      "0.933333333333\n",
      "16\n",
      "0.933333333333\n",
      "17\n",
      "0.933333333333\n",
      "18\n",
      "0.933333333333\n",
      "19\n",
      "0.933333333333\n"
     ]
    }
   ],
   "source": [
    "row = 0\n",
    "scores = []\n",
    "for n in range(0,20):\n",
    "    column = (n % 5)\n",
    "    if column == 0 and n > 0:\n",
    "        row = row + 1\n",
    "        \n",
    "    svc = SVC(kernel='rbf', gamma = 1, C = (n * 0.05) if n != 0 else (n * 0.05) + 0.01)\n",
    "    \n",
    "    svc.fit(x_train,y_train)\n",
    "    y_pred= svc.predict(x_test)\n",
    "    cm = confusion_matrix(y_test,y_pred)\n",
    "    score = svc.score(x_test,y_test)\n",
    "    scores.append(score)\n",
    "    \n",
    "    print(n)\n",
    "#    print(n*0.05 + 0.01)\n",
    "    print(score)\n",
    "#    print('_______')"
   ]
  },
  {
   "cell_type": "code",
   "execution_count": 7,
   "metadata": {},
   "outputs": [
    {
     "data": {
      "image/png": "[encoded data removed]",
      "text/plain": [
       "<matplotlib.figure.Figure at 0x7f5fcaf3d2d0>"
      ]
     },
     "metadata": {},
     "output_type": "display_data"
    }
   ],
   "source": [
    "x_axis = [i for i in range(0,20)]\n",
    "plt.scatter(x_axis, scores)\n",
    "plt.title(\"SVC clasification scores for  largura x comprimento flagelo(varying C += 0.05)\", fontsize=16, y=1.20)\n",
    "plt.xticks(x_axis)\n",
    "plt.show()"
   ]
  },
  {
   "cell_type": "markdown",
   "metadata": {},
   "source": [
    "#### Therefore, we conclude that the value that leads C to the optimal solution is C = 0.05, and thats the value we are using from now."
   ]
  },
  {
   "cell_type": "markdown",
   "metadata": {},
   "source": [
    "### Creating SVC Models and building analisys graphs (changing probability value)"
   ]
  },
  {
   "cell_type": "code",
   "execution_count": 8,
   "metadata": {
    "collapsed": true
   },
   "outputs": [],
   "source": [
    "#default way\n",
    "\n",
    "svc = SVC(kernel='rbf', gamma = 1, C = 0.05, probability=False)\n",
    "\n",
    "scores = []\n",
    "\n",
    "svc.fit(x_train,y_train)\n",
    "y_pred= svc.predict(x_test)\n",
    "\n",
    "score = svc.score(x_test, y_test)\n",
    "scores.append(score)"
   ]
  },
  {
   "cell_type": "code",
   "execution_count": 9,
   "metadata": {
    "collapsed": true
   },
   "outputs": [],
   "source": [
    "#setting probability to true\n",
    "\n",
    "svc = SVC(kernel='rbf', gamma = 1, C = 0.05, probability=True)\n",
    "\n",
    "svc.fit(x_train,y_train)\n",
    "y_pred= svc.predict(x_test)\n",
    "\n",
    "score = svc.score(x_test, y_test)\n",
    "scores.append(score)\n",
    "\n",
    "#print(scores)"
   ]
  },
  {
   "cell_type": "markdown",
   "metadata": {},
   "source": [
    "### Ploting Score for probability variation"
   ]
  },
  {
   "cell_type": "code",
   "execution_count": 10,
   "metadata": {},
   "outputs": [
    {
     "data": {
      "image/png": "[encoded data removed]",
      "text/plain": [
       "<matplotlib.figure.Figure at 0x7f5fcada8b90>"
      ]
     },
     "metadata": {},
     "output_type": "display_data"
    }
   ],
   "source": [
    "x_axis = [i for i in range(0,2)]\n",
    "plt.scatter(x_axis, scores)\n",
    "plt.title(\"SVC clasification scores for  probability (false & true)\", fontsize=16, y=1.20)\n",
    "plt.xticks(x_axis)\n",
    "plt.show()"
   ]
  },
  {
   "cell_type": "markdown",
   "metadata": {},
   "source": [
    "#### Therefore, we conclude that the probability attribute, being true or false, does not interfers in the score of the algorithm"
   ]
  },
  {
   "cell_type": "markdown",
   "metadata": {},
   "source": [
    "### Creating SVC Models and building analisys graphs (changing shrinking value)"
   ]
  },
  {
   "cell_type": "code",
   "execution_count": 11,
   "metadata": {
    "collapsed": true
   },
   "outputs": [],
   "source": [
    "#default way\n",
    "\n",
    "svc = SVC(kernel='rbf', gamma = 1, C = 0.05, probability=False, shrinking=True)\n",
    "\n",
    "scores = []\n",
    "\n",
    "svc.fit(x_train,y_train)\n",
    "y_pred= svc.predict(x_test)\n",
    "\n",
    "score = svc.score(x_test, y_test)\n",
    "scores.append(score)"
   ]
  },
  {
   "cell_type": "code",
   "execution_count": 12,
   "metadata": {
    "collapsed": true
   },
   "outputs": [],
   "source": [
    "#setting shrinking to false\n",
    "\n",
    "svc = SVC(kernel='rbf', gamma = 1, C = 0.05, probability=False, shrinking= False)\n",
    "\n",
    "svc.fit(x_train,y_train)\n",
    "y_pred= svc.predict(x_test)\n",
    "\n",
    "score = svc.score(x_test, y_test)\n",
    "scores.append(score)\n"
   ]
  },
  {
   "cell_type": "markdown",
   "metadata": {},
   "source": [
    "### Ploting score graph for shrinking variation"
   ]
  },
  {
   "cell_type": "code",
   "execution_count": 13,
   "metadata": {},
   "outputs": [
    {
     "data": {
      "image/png": "[encoded data removed]",
      "text/plain": [
       "<matplotlib.figure.Figure at 0x7f60069fe4d0>"
      ]
     },
     "metadata": {},
     "output_type": "display_data"
    }
   ],
   "source": [
    "x_axis = [i for i in range(0,2)]\n",
    "plt.scatter(x_axis, scores)\n",
    "plt.title(\"SVC clasification scores for shrinking (true & false)\", fontsize=16, y=1.20)\n",
    "plt.xticks(x_axis)\n",
    "plt.show()"
   ]
  },
  {
   "cell_type": "markdown",
   "metadata": {},
   "source": [
    "#### Therefore, we conclude that changes in the 'shrinking' attribute does not affect the score "
   ]
  },
  {
   "cell_type": "markdown",
   "metadata": {},
   "source": [
    "## Conclusion"
   ]
  },
  {
   "cell_type": "markdown",
   "metadata": {},
   "source": [
    "#### Through this demonstrations, we were able to conclude that the optimum parameters for this rbf kerneled svc , using largura flagelo and comprimento flagelo as features is:\n",
    "\n",
    "   * gamma >= 0.1 (auto = default in rbf kernel is **1/n_features**, in our case 0.25)\n",
    "   * C = 0.05 (default is **1**)\n",
    "   * probability = true or false (being true or false does not affect the score, by default is set as **false**)\n",
    "   * shrinking = true or false (being true or false does not affect the score, by default is set as **true**)\n",
    "    "
   ]
  },
  {
   "cell_type": "markdown",
   "metadata": {
    "collapsed": true
   },
   "source": [
    "### And the biggest optimization achieved as score: 0.9555"
   ]
  },
  {
   "cell_type": "code",
   "execution_count": 14,
   "metadata": {},
   "outputs": [
    {
     "data": {
      "text/plain": [
       "0.9555555555555556"
      ]
     },
     "execution_count": 14,
     "metadata": {},
     "output_type": "execute_result"
    }
   ],
   "source": [
    "svc.score(x_test, y_test)"
   ]
  }
 ],
 "metadata": {
  "kernelspec": {
   "display_name": "Python 2",
   "language": "python",
   "name": "python2"
  },
  "language_info": {
   "codemirror_mode": {
    "name": "ipython",
    "version": 2
   },
   "file_extension": ".py",
   "mimetype": "text/x-python",
   "name": "python",
   "nbconvert_exporter": "python",
   "pygments_lexer": "ipython2",
   "version": "2.7.13"
  }
 },
 "nbformat": 4,
 "nbformat_minor": 2
}
